{
 "cells": [
  {
   "cell_type": "markdown",
   "id": "bc53df44",
   "metadata": {},
   "source": [
    "DATA CLEANING IN PANDAS"
   ]
  },
  {
   "cell_type": "code",
   "execution_count": 1,
   "id": "c28ffaa2",
   "metadata": {},
   "outputs": [],
   "source": [
    "import pandas as pd"
   ]
  },
  {
   "cell_type": "code",
   "execution_count": null,
   "id": "0727f45e",
   "metadata": {},
   "outputs": [],
   "source": [
    "df = pd.read_excel(r\"C:\\Users\\Felicity\\Downloads\\Customer Call List.xlsx\")\n",
    "df"
   ]
  },
  {
   "cell_type": "code",
   "execution_count": null,
   "id": "b5e6d49e",
   "metadata": {},
   "outputs": [],
   "source": [
    "df = df.drop_duplicates()\n",
    "df"
   ]
  },
  {
   "cell_type": "code",
   "execution_count": null,
   "id": "583ec13a",
   "metadata": {},
   "outputs": [],
   "source": [
    "df = df.drop(columns = \"Not_Useful_Column\")\n",
    "df"
   ]
  },
  {
   "cell_type": "code",
   "execution_count": null,
   "id": "f76ca6d2",
   "metadata": {},
   "outputs": [],
   "source": [
    "df[\"Last_Name\"] = df[\"Last_Name\"]  .str.strip(\".../_\")\n",
    "df"
   ]
  },
  {
   "cell_type": "code",
   "execution_count": null,
   "id": "2f7c1e1d",
   "metadata": {},
   "outputs": [],
   "source": [
    "#df[\"Phone_Number\"].str.replace('[^a-zA-Z0-9]', '')\n",
    "#df[\"Phone_Number\"].apply(lambda x: x[0:3] + x[3:6] + x[6:10])\n",
    "#df[\"Phone_Number\"]= df[\"Phone_Number\"].apply(lambda x: str(x))\n",
    "\n",
    "#df[\"Phone_Number\"]=df[\"Phone_Number\"].apply(lambda x: x[0:3] + '_' + x[3:6] + '_' + x[6:10])\n",
    "\n",
    "#df[\"Phone_Number\"].str.replace( 'nan____', '')\n",
    "df[\"Phone_Number\"] = df[\"Phone_Number\"].str.replace( 'nan____', '')\n",
    "df[\"Phone_Number\"] = df [\"Phone_Number\"].str.replace(' N/a____','')\n",
    "df"
   ]
  },
  {
   "cell_type": "code",
   "execution_count": null,
   "id": "7fcffb06",
   "metadata": {},
   "outputs": [],
   "source": [
    "#df = pd.read_excel(r\"C:\\Users\\Felicity\\Downloads\\Customer Call List.xlsx\")\n",
    "#df\n",
    "df[[\"Street_Address\", \"State\", \"Zip_code\"]] = df[\"Address\"].str.split(',', 2, expand=True)\n",
    "df"
   ]
  },
  {
   "cell_type": "code",
   "execution_count": null,
   "id": "8b674c02",
   "metadata": {},
   "outputs": [],
   "source": [
    "df[\"Paying Customer\"]=df[\"Paying Customer\"].str.replace('Yes', 'Y')\n",
    "df[\"Paying Customer\"]=df[\"Paying Customer\"].str.replace('No', 'N')\n",
    "df[\"Do_Not_Contact\"]=df[\"Paying Customer\"].str.replace('Yes', 'Y')\n",
    "df[\"Do_Not_Contact\"]=df[\"Paying Customer\"].str.replace('No', 'N')\n",
    "df\n"
   ]
  },
  {
   "cell_type": "code",
   "execution_count": null,
   "id": "25875c25",
   "metadata": {},
   "outputs": [],
   "source": [
    "df=df.replace('N/a', '')\n",
    "df\n"
   ]
  },
  {
   "cell_type": "code",
   "execution_count": null,
   "id": "4f477bda",
   "metadata": {},
   "outputs": [],
   "source": [
    "df=df.fillna('')\n",
    "df"
   ]
  },
  {
   "cell_type": "code",
   "execution_count": null,
   "id": "609b2e82",
   "metadata": {},
   "outputs": [],
   "source": [
    "for x in df.index:\n",
    "    if df.loc[x, 'Do_Not_Contact']==\"Y\":\n",
    "        \n",
    "        df.drop(x, inplace=True)\n",
    "df"
   ]
  },
  {
   "cell_type": "code",
   "execution_count": null,
   "id": "ae7b896f",
   "metadata": {},
   "outputs": [],
   "source": []
  }
 ],
 "metadata": {
  "kernelspec": {
   "display_name": "Python 3 (ipykernel)",
   "language": "python",
   "name": "python3"
  },
  "language_info": {
   "codemirror_mode": {
    "name": "ipython",
    "version": 3
   },
   "file_extension": ".py",
   "mimetype": "text/x-python",
   "name": "python",
   "nbconvert_exporter": "python",
   "pygments_lexer": "ipython3",
   "version": "3.9.12"
  }
 },
 "nbformat": 4,
 "nbformat_minor": 5
}
